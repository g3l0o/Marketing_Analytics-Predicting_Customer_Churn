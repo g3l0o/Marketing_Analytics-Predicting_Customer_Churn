{
 "cells": [
  {
   "cell_type": "markdown",
   "metadata": {},
   "source": [
    "# Churn Prediction"
   ]
  },
  {
   "cell_type": "markdown",
   "metadata": {},
   "source": [
    "**Using supervised Learning, we are going to train our model in order to predict if a client is going to churn or not**"
   ]
  },
  {
   "cell_type": "code",
   "execution_count": 1,
   "metadata": {},
   "outputs": [
    {
     "name": "stdout",
     "output_type": "stream",
     "text": [
      "   Account_Length  Vmail_Message  Day_Mins  Eve_Mins  Night_Mins  Intl_Mins  \\\n",
      "0             128             25     265.1     197.4       244.7       10.0   \n",
      "1             107             26     161.6     195.5       254.4       13.7   \n",
      "2             137              0     243.4     121.2       162.6       12.2   \n",
      "3              84              0     299.4      61.9       196.9        6.6   \n",
      "4              75              0     166.7     148.3       186.9       10.1   \n",
      "\n",
      "   CustServ_Calls Churn Intl_Plan Vmail_Plan  ...  Day_Charge  Eve_Calls  \\\n",
      "0               1    no        no        yes  ...       45.07         99   \n",
      "1               1    no        no        yes  ...       27.47        103   \n",
      "2               0    no        no         no  ...       41.38        110   \n",
      "3               2    no       yes         no  ...       50.90         88   \n",
      "4               3    no       yes         no  ...       28.34        122   \n",
      "\n",
      "   Eve_Charge  Night_Calls  Night_Charge  Intl_Calls  Intl_Charge  State  \\\n",
      "0       16.78           91         11.01           3         2.70     KS   \n",
      "1       16.62          103         11.45           3         3.70     OH   \n",
      "2       10.30          104          7.32           5         3.29     NJ   \n",
      "3        5.26           89          8.86           7         1.78     OH   \n",
      "4       12.61          121          8.41           3         2.73     OK   \n",
      "\n",
      "  Area_Code     Phone  \n",
      "0       415  382-4657  \n",
      "1       415  371-7191  \n",
      "2       415  358-1921  \n",
      "3       408  375-9999  \n",
      "4       415  330-6626  \n",
      "\n",
      "[5 rows x 21 columns]\n"
     ]
    }
   ],
   "source": [
    "import pandas as pd\n",
    "import matplotlib.pyplot as plt\n",
    "import seaborn as sns\n",
    "from sklearn.preprocessing import StandardScaler\n",
    "\n",
    "telco = pd.read_csv('./datasets/Churn.csv')\n",
    "print(telco.head())"
   ]
  },
  {
   "cell_type": "markdown",
   "metadata": {},
   "source": [
    "**First, we are going to remove categorical variables**"
   ]
  },
  {
   "cell_type": "code",
   "execution_count": 6,
   "metadata": {},
   "outputs": [
    {
     "name": "stdout",
     "output_type": "stream",
     "text": [
      "<class 'pandas.core.frame.DataFrame'>\n",
      "RangeIndex: 3333 entries, 0 to 3332\n",
      "Data columns (total 18 columns):\n",
      " #   Column          Non-Null Count  Dtype  \n",
      "---  ------          --------------  -----  \n",
      " 0   Account_Length  3333 non-null   int64  \n",
      " 1   Vmail_Message   3333 non-null   int64  \n",
      " 2   Day_Mins        3333 non-null   float64\n",
      " 3   Eve_Mins        3333 non-null   float64\n",
      " 4   Night_Mins      3333 non-null   float64\n",
      " 5   Intl_Mins       3333 non-null   float64\n",
      " 6   CustServ_Calls  3333 non-null   int64  \n",
      " 7   Churn           3333 non-null   object \n",
      " 8   Intl_Plan       3333 non-null   object \n",
      " 9   Vmail_Plan      3333 non-null   object \n",
      " 10  Day_Calls       3333 non-null   int64  \n",
      " 11  Day_Charge      3333 non-null   float64\n",
      " 12  Eve_Calls       3333 non-null   int64  \n",
      " 13  Eve_Charge      3333 non-null   float64\n",
      " 14  Night_Calls     3333 non-null   int64  \n",
      " 15  Night_Charge    3333 non-null   float64\n",
      " 16  Intl_Calls      3333 non-null   int64  \n",
      " 17  Intl_Charge     3333 non-null   float64\n",
      "dtypes: float64(8), int64(7), object(3)\n",
      "memory usage: 468.8+ KB\n"
     ]
    }
   ],
   "source": [
    "telco_cl_df = telco.drop(columns=['State', 'Area_Code', 'Phone'])\n",
    "\n",
    "telco_cl_df.info()"
   ]
  },
  {
   "cell_type": "markdown",
   "metadata": {},
   "source": [
    "**Then, we are going to Encode the Binary Features**"
   ]
  },
  {
   "cell_type": "code",
   "execution_count": 7,
   "metadata": {},
   "outputs": [
    {
     "name": "stdout",
     "output_type": "stream",
     "text": [
      "   Account_Length  Vmail_Message  Day_Mins  Eve_Mins  Night_Mins  Intl_Mins  \\\n",
      "0             128             25     265.1     197.4       244.7       10.0   \n",
      "1             107             26     161.6     195.5       254.4       13.7   \n",
      "2             137              0     243.4     121.2       162.6       12.2   \n",
      "3              84              0     299.4      61.9       196.9        6.6   \n",
      "4              75              0     166.7     148.3       186.9       10.1   \n",
      "\n",
      "   CustServ_Calls  Churn  Intl_Plan  Vmail_Plan  Day_Calls  Day_Charge  \\\n",
      "0               1      0          0           1        110       45.07   \n",
      "1               1      0          0           1        123       27.47   \n",
      "2               0      0          0           0        114       41.38   \n",
      "3               2      0          1           0         71       50.90   \n",
      "4               3      0          1           0        113       28.34   \n",
      "\n",
      "   Eve_Calls  Eve_Charge  Night_Calls  Night_Charge  Intl_Calls  Intl_Charge  \n",
      "0         99       16.78           91         11.01           3         2.70  \n",
      "1        103       16.62          103         11.45           3         3.70  \n",
      "2        110       10.30          104          7.32           5         3.29  \n",
      "3         88        5.26           89          8.86           7         1.78  \n",
      "4        122       12.61          121          8.41           3         2.73  \n"
     ]
    }
   ],
   "source": [
    "telco_cl_df['Vmail_Plan'] = telco_cl_df['Vmail_Plan'].replace({'no': 0, 'yes': 1})\n",
    "telco_cl_df['Churn'] = telco_cl_df['Churn'].replace({'no': 0, 'yes': 1})\n",
    "telco_cl_df['Intl_Plan'] = telco_cl_df['Intl_Plan'].replace({'no': 0, 'yes': 1})\n",
    "\n",
    "print(telco_cl_df.head())"
   ]
  },
  {
   "cell_type": "markdown",
   "metadata": {},
   "source": [
    "**Last, let's fit the scale so every feature is in the same scale**"
   ]
  },
  {
   "cell_type": "code",
   "execution_count": 12,
   "metadata": {},
   "outputs": [
    {
     "name": "stdout",
     "output_type": "stream",
     "text": [
      "                 0             1             2             3             4   \\\n",
      "count  3.333000e+03  3.333000e+03  3.333000e+03  3.333000e+03  3.333000e+03   \n",
      "mean   1.470971e-16  7.035077e-17  7.312216e-16 -6.821892e-17  7.887813e-17   \n",
      "std    1.000150e+00  1.000150e+00  1.000150e+00  1.000150e+00  1.000150e+00   \n",
      "min   -2.513172e+00 -5.917599e-01 -3.301096e+00 -3.963622e+00 -3.513648e+00   \n",
      "25%   -6.797448e-01 -5.917599e-01 -6.624241e-01 -6.780300e-01 -6.698545e-01   \n",
      "50%   -1.627644e-03 -5.917599e-01 -6.887677e-03  8.276141e-03  6.485803e-03   \n",
      "75%    6.513740e-01  8.695542e-01  6.725198e-01  6.768330e-01  6.808485e-01   \n",
      "max    3.564766e+00  3.134591e+00  3.140422e+00  3.209066e+00  3.839081e+00   \n",
      "\n",
      "                 5             6             7             8             9   \\\n",
      "count  3.333000e+03  3.333000e+03  3.333000e+03  3.333000e+03  3.333000e+03   \n",
      "mean  -3.336332e-16  8.527366e-18  5.542788e-17 -4.796643e-17 -6.608708e-17   \n",
      "std    1.000150e+00  1.000150e+00  1.000150e+00  1.000150e+00  1.000150e+00   \n",
      "min   -3.667413e+00 -1.188218e+00 -4.116718e-01 -3.275805e-01 -6.183963e-01   \n",
      "25%   -6.223690e-01 -4.279320e-01 -4.116718e-01 -3.275805e-01 -6.183963e-01   \n",
      "50%    2.246393e-02 -4.279320e-01 -4.116718e-01 -3.275805e-01 -6.183963e-01   \n",
      "75%    6.672969e-01  3.323545e-01 -4.116718e-01 -3.275805e-01  1.617086e+00   \n",
      "max    3.497397e+00  5.654360e+00  2.429119e+00  3.052685e+00  1.617086e+00   \n",
      "\n",
      "                 10            11            12            13            14  \\\n",
      "count  3.333000e+03  3.333000e+03  3.333000e+03  3.333000e+03  3.333000e+03   \n",
      "mean  -1.934646e-16 -2.835349e-16  3.288365e-16  1.385697e-16 -4.903235e-17   \n",
      "std    1.000150e+00  1.000150e+00  1.000150e+00  1.000150e+00  1.000150e+00   \n",
      "min   -5.005247e+00 -3.301162e+00 -5.025911e+00 -3.963679e+00 -3.429870e+00   \n",
      "25%   -6.695701e-01 -6.623760e-01 -6.583610e-01 -6.783123e-01 -6.699340e-01   \n",
      "50%    2.812491e-02 -6.730063e-03 -5.738630e-03  8.459274e-03 -5.505089e-03   \n",
      "75%    6.759846e-01  6.726790e-01  6.970854e-01  6.766695e-01  6.589239e-01   \n",
      "max    3.217588e+00  3.140803e+00  3.508382e+00  3.207980e+00  3.827739e+00   \n",
      "\n",
      "                 15            16            17  \n",
      "count  3.333000e+03  3.333000e+03  3.333000e+03  \n",
      "mean  -4.370275e-17 -8.527366e-18  2.728757e-16  \n",
      "std    1.000150e+00  1.000150e+00  1.000150e+00  \n",
      "min   -3.515366e+00 -1.820289e+00 -3.668210e+00  \n",
      "25%   -6.676792e-01 -6.011951e-01 -6.164341e-01  \n",
      "50%    4.691242e-03 -1.948306e-01  2.045823e-02  \n",
      "75%    6.814562e-01  6.178983e-01  6.706192e-01  \n",
      "max    3.836763e+00  6.307001e+00  3.496829e+00  \n"
     ]
    }
   ],
   "source": [
    "telco_scaled = pd.DataFrame(StandardScaler().fit_transform(telco_cl_df))\n",
    "\n",
    "print(telco_scaled.describe())"
   ]
  },
  {
   "cell_type": "markdown",
   "metadata": {},
   "source": [
    "**Logistic Regression**\n",
    "\n",
    "* In this example the code is just to ilustrate the process. The dataset in the course changed and hasn't been provided"
   ]
  },
  {
   "cell_type": "code",
   "execution_count": null,
   "metadata": {},
   "outputs": [],
   "source": [
    "from sklearn.linear_model import LogisticRegression\n",
    "\n",
    "#Instantiate the classifier\n",
    "clf = LogisticRegression()\n",
    "\n",
    "#Fit the classifier\n",
    "clf.fit(telco[features], telco['Churn'])\n",
    "\n",
    "#predict the label of the new customer\n",
    "print(clf.predict(new_customer))"
   ]
  },
  {
   "cell_type": "markdown",
   "metadata": {},
   "source": [
    "**Decision Tree**"
   ]
  },
  {
   "cell_type": "code",
   "execution_count": null,
   "metadata": {},
   "outputs": [],
   "source": [
    "from sklearn.tree import DecisionTreeClassifier\n",
    "\n",
    "# Instantiate the classifier\n",
    "clf = DecisionTreeClassifier()\n",
    "\n",
    "# Fit the classifier\n",
    "clf.fit(telco[features], telco['Churn'])\n",
    "\n",
    "# Predict the label of new_customer\n",
    "print(clf.predict(new_customer))"
   ]
  },
  {
   "cell_type": "markdown",
   "metadata": {},
   "source": [
    "## Evaluating Model Performance\n",
    "\n",
    "- Accuracy\n",
    "    \\begin{equation*}\n",
    "    \\text{Accuracy} = \\frac{\\text{Total Number of Correct Predictions}}{\\text{Total Number of Data Points}}\n",
    "    \\end{equation*}\n",
    "\n",
    "**Training and Test Sets**\n",
    "- Fit your classifier to the training set\n",
    "- Make predictions using the test set"
   ]
  },
  {
   "cell_type": "code",
   "execution_count": null,
   "metadata": {},
   "outputs": [],
   "source": [
    "from sklearn.model_selection import train_test_split\n",
    "\n",
    "X_train, X_test, y_train, y_test = train_test_split(telco['data'], telco['target'], test_size = 0.2, random_state = 42)\n",
    "\n",
    "svc = SVC()\n",
    "\n",
    "svc.fit(X_train, y_train)\n",
    "\n",
    "svc.predict(X_test)\n",
    "\n",
    "svc.score(X_test, y_test)"
   ]
  },
  {
   "cell_type": "markdown",
   "metadata": {},
   "source": [
    "**Random Forest**"
   ]
  },
  {
   "cell_type": "code",
   "execution_count": null,
   "metadata": {},
   "outputs": [],
   "source": [
    "from sklearn.ensamble import RandomForestClassifier\n",
    "\n",
    "# Instantiate the classifier\n",
    "clf = RandomForestClassifier()\n",
    "\n",
    "# Fit to the training data\n",
    "clf.fit(X_train, y_train)\n",
    "\n",
    "# Compute accuracy\n",
    "print(clf.score(X_test, y_test))"
   ]
  },
  {
   "cell_type": "markdown",
   "metadata": {},
   "source": [
    "**Model Metrics**\n",
    "\n",
    "Imbalanced classess\n",
    "- more data points that belong to one class than to another\n",
    "\n",
    "This problem can be solved with *upsampling* and *downsampling*. This will help to balance the classes and help to solve this problem.\n",
    "\n",
    "    **Recall/Sensitivity**\n",
    "\n",
    "\\begin{equation*}\n",
    "\\text{Precision} = \\frac{\\text{True Positives}}{\\text{True Positives + False Positives}}\n",
    "\\end{equation*}\n",
    "\n",
    "- A model with high precision indicates:\n",
    "    - Few false positives (\"false alarms\")\n",
    "    - Not many non-churners were classified as churners\n",
    "\n",
    "    **Recall/Sensitivity**\n",
    "\n",
    "\\begin{equation*}\n",
    "\\text{Recall/Sensitivity} = \\frac{\\text{True Positives}}{\\text{True Positives + False Negatives}}\n",
    "\\end{equation*}\n",
    "\n",
    "- A model with high recall indicates that it correctly classified most churners\n",
    "\n",
    "\n",
    "**Confusion Matrix in scikit-learn**"
   ]
  },
  {
   "cell_type": "code",
   "execution_count": null,
   "metadata": {},
   "outputs": [],
   "source": [
    "from sklearn.metrics import confusion_matrix\n",
    "\n",
    "cm = confusion_matrix(y_test, y_pred)"
   ]
  },
  {
   "cell_type": "code",
   "execution_count": null,
   "metadata": {},
   "outputs": [],
   "source": [
    "from sklearn.metrics import precision_score\n",
    "from sklearn.metrics import recall_score\n",
    "\n",
    "precision_score(y_test, y_pred)\n",
    "recall_score(y_test, y_pred)"
   ]
  },
  {
   "cell_type": "markdown",
   "metadata": {},
   "source": [
    "**Other model metrics**\n",
    "\n",
    "    The Receiving Operating Characteristic Curve (ROC)\n",
    "    \n",
    "Allows to visualize the performance of the churn classifier\n",
    "\n",
    "- Every prediction the classifier makes has an associated probability\n",
    "- **Default probability** treshold in scikit-learn is **50%**\n",
    "    - if the probability is **> 50%** the model will predict the data point as belonging to the **positive** class\n",
    "    - if the probability is **< 50%** the model will predict the data point as belonging to the **negative** class"
   ]
  },
  {
   "cell_type": "code",
   "execution_count": null,
   "metadata": {},
   "outputs": [],
   "source": [
    "from sklearn.metrics import roc_curve\n",
    "\n",
    "fpr, tpr, tresholds = roc_curve(y_test, y_pred_prob)"
   ]
  },
  {
   "cell_type": "code",
   "execution_count": 4,
   "metadata": {},
   "outputs": [],
   "source": [
    "fpr = [0.        , 0.        , 0.        , 0.00116959, 0.00467836,\n",
    "       0.01520468, 0.02923977, 0.04912281, 0.09005848, 0.18479532,\n",
    "       0.4       , 1.        ]\n",
    "\n",
    "tpr = [0.        , 0.16551724, 0.33793103, 0.44137931, 0.55172414,\n",
    "       0.63448276, 0.73103448, 0.7862069 , 0.82758621, 0.84827586,\n",
    "       0.87586207, 1.        ]"
   ]
  },
  {
   "cell_type": "code",
   "execution_count": 5,
   "metadata": {},
   "outputs": [
    {
     "data": {
      "image/png": "[encoded data removed]",
      "text/plain": [
       "<Figure size 432x288 with 1 Axes>"
      ]
     },
     "metadata": {
      "needs_background": "light"
     },
     "output_type": "display_data"
    }
   ],
   "source": [
    "\n",
    "import matplotlib.pyplot as plt\n",
    "\n",
    "plt.plot(fpr, tpr)\n",
    "\n",
    "plt.xlabel(\"False Positive Rate\")\n",
    "\n",
    "plt.ylabel(\"True Positive Rate\")\n",
    "\n",
    "plt.plot([0,1], [0,1], \"k--\")\n",
    "\n",
    "plt.show()"
   ]
  },
  {
   "cell_type": "markdown",
   "metadata": {},
   "source": [
    "**Area Under the Curve (AUC)**\n",
    "\n",
    "The AUC indicates how well our model is behaving. An AUC >> 0.5 is a good one."
   ]
  },
  {
   "cell_type": "code",
   "execution_count": null,
   "metadata": {},
   "outputs": [],
   "source": [
    "from sklearn.metrics import roc_auc_score\n",
    "\n",
    "auc = roc_auc_score(y_test, y_pred)"
   ]
  },
  {
   "cell_type": "markdown",
   "metadata": {},
   "source": [
    "**Generating Probabilities in sklearn**"
   ]
  },
  {
   "cell_type": "code",
   "execution_count": null,
   "metadata": {},
   "outputs": [],
   "source": [
    "logreg.predict_proba(X_test)[:,1]"
   ]
  },
  {
   "cell_type": "markdown",
   "metadata": {},
   "source": [
    "**F1 Score**\n",
    "\n",
    "\\begin{equation*}\n",
    "\\text{F1 Score} = 2 \\frac{\\text{Precision * Recall}}{\\text{Precision + Recall}}\n",
    "\\end{equation*}\n",
    "\n",
    "- A high F1 score is sign of well-performing model"
   ]
  },
  {
   "cell_type": "code",
   "execution_count": null,
   "metadata": {},
   "outputs": [],
   "source": [
    "# Import f1_score\n",
    "from sklearn.metrics import f1_score\n",
    "\n",
    "# Predict the labels of the test set\n",
    "y_pred = clf.predict(X_test)\n",
    "\n",
    "# Print the F1 score\n",
    "print(f1_score(y_test, y_pred))"
   ]
  }
 ],
 "metadata": {
  "kernelspec": {
   "display_name": "Python 3",
   "language": "python",
   "name": "python3"
  },
  "language_info": {
   "codemirror_mode": {
    "name": "ipython",
    "version": 3
   },
   "file_extension": ".py",
   "mimetype": "text/x-python",
   "name": "python",
   "nbconvert_exporter": "python",
   "pygments_lexer": "ipython3",
   "version": "3.7.7"
  }
 },
 "nbformat": 4,
 "nbformat_minor": 4
}
