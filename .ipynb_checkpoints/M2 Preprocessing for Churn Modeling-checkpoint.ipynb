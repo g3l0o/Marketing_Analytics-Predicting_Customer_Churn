{
 "cells": [
  {
   "cell_type": "markdown",
   "metadata": {},
   "source": [
    "# Preprocessing for Churn Modeling"
   ]
  },
  {
   "cell_type": "markdown",
   "metadata": {},
   "source": [
    "**Import dataset**"
   ]
  },
  {
   "cell_type": "code",
   "execution_count": 1,
   "metadata": {},
   "outputs": [
    {
     "name": "stdout",
     "output_type": "stream",
     "text": [
      "   Account_Length  Vmail_Message  Day_Mins  Eve_Mins  Night_Mins  Intl_Mins  \\\n",
      "0             128             25     265.1     197.4       244.7       10.0   \n",
      "1             107             26     161.6     195.5       254.4       13.7   \n",
      "2             137              0     243.4     121.2       162.6       12.2   \n",
      "3              84              0     299.4      61.9       196.9        6.6   \n",
      "4              75              0     166.7     148.3       186.9       10.1   \n",
      "\n",
      "   CustServ_Calls Churn Intl_Plan Vmail_Plan  ...  Day_Charge  Eve_Calls  \\\n",
      "0               1    no        no        yes  ...       45.07         99   \n",
      "1               1    no        no        yes  ...       27.47        103   \n",
      "2               0    no        no         no  ...       41.38        110   \n",
      "3               2    no       yes         no  ...       50.90         88   \n",
      "4               3    no       yes         no  ...       28.34        122   \n",
      "\n",
      "   Eve_Charge  Night_Calls  Night_Charge  Intl_Calls  Intl_Charge  State  \\\n",
      "0       16.78           91         11.01           3         2.70     KS   \n",
      "1       16.62          103         11.45           3         3.70     OH   \n",
      "2       10.30          104          7.32           5         3.29     NJ   \n",
      "3        5.26           89          8.86           7         1.78     OH   \n",
      "4       12.61          121          8.41           3         2.73     OK   \n",
      "\n",
      "  Area_Code     Phone  \n",
      "0       415  382-4657  \n",
      "1       415  371-7191  \n",
      "2       415  358-1921  \n",
      "3       408  375-9999  \n",
      "4       415  330-6626  \n",
      "\n",
      "[5 rows x 21 columns]\n"
     ]
    }
   ],
   "source": [
    "import pandas as pd\n",
    "import matplotlib.pyplot as plt\n",
    "import seaborn as sns\n",
    "from sklearn.preprocessing import StandardScaler\n",
    "\n",
    "telco = pd.read_csv('./datasets/Churn.csv')\n",
    "print(telco.head())"
   ]
  },
  {
   "cell_type": "markdown",
   "metadata": {},
   "source": [
    "**Model Assumptions**\n",
    "- Some assumptions that models make:\n",
    "    - That features are normally distributed\n",
    "    - That features are on the same scale\n",
    "\n",
    "**Data types**\n",
    "- Machine learning algorithms require numeric data types\n",
    "    - Need to encode categorical variable as numeric\n",
    "\n",
    "**Standarization**\n",
    "- Centers the distribution around the mean\n",
    "- Calculates the number of standard deviations away from the mean each point is"
   ]
  },
  {
   "cell_type": "markdown",
   "metadata": {},
   "source": [
    "## Encoding Binary Features"
   ]
  },
  {
   "cell_type": "markdown",
   "metadata": {},
   "source": [
    "First we are going to recast some features. Here we are going to assign the values *1* to *'yes'* and *0* to *'no'*"
   ]
  },
  {
   "cell_type": "code",
   "execution_count": 2,
   "metadata": {},
   "outputs": [
    {
     "name": "stdout",
     "output_type": "stream",
     "text": [
      "0    1\n",
      "1    1\n",
      "2    0\n",
      "3    0\n",
      "4    0\n",
      "Name: Vmail_Plan, dtype: int64\n",
      "0    0\n",
      "1    0\n",
      "2    0\n",
      "3    0\n",
      "4    0\n",
      "Name: Churn, dtype: int64\n"
     ]
    }
   ],
   "source": [
    "telco['Vmail_Plan'] = telco['Vmail_Plan'].replace({'no': 0, 'yes': 1})\n",
    "telco['Churn'] = telco['Churn'].replace({'no': 0, 'yes': 1})\n",
    "telco['Intl_Plan'] = telco['Intl_Plan'].replace({'no': 0, 'yes': 1})\n",
    "\n",
    "print(telco['Vmail_Plan'].head())\n",
    "print(telco['Churn'].head())"
   ]
  },
  {
   "cell_type": "markdown",
   "metadata": {},
   "source": [
    "## One hot encoding\n",
    "\n",
    "We are going to use this technique to encode the state"
   ]
  },
  {
   "cell_type": "code",
   "execution_count": 3,
   "metadata": {},
   "outputs": [
    {
     "name": "stdout",
     "output_type": "stream",
     "text": [
      "   AK  AL  AR  AZ  CA  CO  CT  DC  DE  FL  ...  SD  TN  TX  UT  VA  VT  WA  \\\n",
      "0   0   0   0   0   0   0   0   0   0   0  ...   0   0   0   0   0   0   0   \n",
      "1   0   0   0   0   0   0   0   0   0   0  ...   0   0   0   0   0   0   0   \n",
      "2   0   0   0   0   0   0   0   0   0   0  ...   0   0   0   0   0   0   0   \n",
      "3   0   0   0   0   0   0   0   0   0   0  ...   0   0   0   0   0   0   0   \n",
      "4   0   0   0   0   0   0   0   0   0   0  ...   0   0   0   0   0   0   0   \n",
      "\n",
      "   WI  WV  WY  \n",
      "0   0   0   0  \n",
      "1   0   0   0  \n",
      "2   0   0   0  \n",
      "3   0   0   0  \n",
      "4   0   0   0  \n",
      "\n",
      "[5 rows x 51 columns]\n"
     ]
    }
   ],
   "source": [
    "telco_state = pd.get_dummies(telco['State'])\n",
    "\n",
    "print(telco_state.head())"
   ]
  },
  {
   "cell_type": "markdown",
   "metadata": {},
   "source": [
    "## Feature Scaling\n",
    "Let's fit the scale so every feature is in the same scale"
   ]
  },
  {
   "cell_type": "code",
   "execution_count": 4,
   "metadata": {},
   "outputs": [
    {
     "name": "stdout",
     "output_type": "stream",
     "text": [
      "         Intl_Calls    Night_Mins\n",
      "count  3.333000e+03  3.333000e+03\n",
      "mean  -8.527366e-18  7.887813e-17\n",
      "std    1.000150e+00  1.000150e+00\n",
      "min   -1.820289e+00 -3.513648e+00\n",
      "25%   -6.011951e-01 -6.698545e-01\n",
      "50%   -1.948306e-01  6.485803e-03\n",
      "75%    6.178983e-01  6.808485e-01\n",
      "max    6.307001e+00  3.839081e+00\n"
     ]
    }
   ],
   "source": [
    "telco_to_scale = telco[['Intl_Calls', 'Night_Mins']]\n",
    "telco_scaled = StandardScaler().fit_transform(telco_to_scale)\n",
    "telco_scaled_df = pd.DataFrame(telco_scaled, columns = ['Intl_Calls', 'Night_Mins'])\n",
    "\n",
    "print(telco_scaled_df.describe())"
   ]
  },
  {
   "cell_type": "markdown",
   "metadata": {},
   "source": [
    "## Feature Selection and Engineering\n",
    "\n",
    "**Dropping unnecessary features**\n",
    "- Unique identifiers\n",
    "    - Phone numbers\n",
    "    - Social security numbers\n",
    "    - Account numbers\n",
    "\n",
    "**Dropping correlated features**\n",
    "- Highly correlated features can be dropped\n",
    "- They provide no additional information to the model\n",
    "\n",
    "**Feature engineering**\n",
    "- Creating new features to help impove model performance\n",
    "- Should consult with business and subject matter experts"
   ]
  },
  {
   "cell_type": "code",
   "execution_count": 5,
   "metadata": {},
   "outputs": [
    {
     "name": "stdout",
     "output_type": "stream",
     "text": [
      "Index(['Account_Length', 'Vmail_Message', 'Day_Mins', 'Eve_Mins', 'Night_Mins',\n",
      "       'Intl_Mins', 'CustServ_Calls', 'Churn', 'Intl_Plan', 'Vmail_Plan',\n",
      "       'Day_Calls', 'Day_Charge', 'Eve_Calls', 'Eve_Charge', 'Night_Calls',\n",
      "       'Night_Charge', 'Intl_Calls', 'Intl_Charge', 'State'],\n",
      "      dtype='object')\n"
     ]
    }
   ],
   "source": [
    "telco = telco.drop(['Area_Code', 'Phone'], axis = 1)\n",
    "print(telco.columns)"
   ]
  },
  {
   "cell_type": "code",
   "execution_count": 6,
   "metadata": {},
   "outputs": [
    {
     "name": "stdout",
     "output_type": "stream",
     "text": [
      "0    2.689011\n",
      "1    2.469903\n",
      "2    1.563462\n",
      "3    2.212360\n",
      "4    1.544628\n",
      "Name: Avg_Night_Calls, dtype: float64\n"
     ]
    }
   ],
   "source": [
    "telco['Avg_Night_Calls'] = telco['Night_Mins'] / telco['Night_Calls']\n",
    "\n",
    "print(telco['Avg_Night_Calls'].head())"
   ]
  }
 ],
 "metadata": {
  "kernelspec": {
   "display_name": "Python 3",
   "language": "python",
   "name": "python3"
  },
  "language_info": {
   "codemirror_mode": {
    "name": "ipython",
    "version": 3
   },
   "file_extension": ".py",
   "mimetype": "text/x-python",
   "name": "python",
   "nbconvert_exporter": "python",
   "pygments_lexer": "ipython3",
   "version": "3.7.7"
  }
 },
 "nbformat": 4,
 "nbformat_minor": 4
}
